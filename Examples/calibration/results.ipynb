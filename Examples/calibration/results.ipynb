{
 "cells": [
  {
   "cell_type": "code",
   "execution_count": 1,
   "metadata": {},
   "outputs": [],
   "source": [
    "with open('gauges.txt', 'r') as f:\n",
    "    gauges= f.readlines()"
   ]
  },
  {
   "cell_type": "code",
   "execution_count": 7,
   "metadata": {},
   "outputs": [],
   "source": [
    "import numpy as np\n",
    "\n",
    "gauges= np.loadtxt('gauges.txt', converters= {0:float,1:float,2:float})"
   ]
  },
  {
   "cell_type": "code",
   "execution_count": 9,
   "metadata": {},
   "outputs": [],
   "source": [
    "gauge=gauges[0]\n",
    "df= pd.read_csv('/home/ZhiLi/CRESTHH/data/streamGauge/%08d.csv'%(int(gauge[0])))"
   ]
  },
  {
   "cell_type": "code",
   "execution_count": 3,
   "metadata": {},
   "outputs": [],
   "source": [
    "obs_08076700= pd.read_csv('/home/ZhiLi/CRESTHH/data/streamGauge/08076700.csv', converters={'datetime': pd.to_datetime}).set_index('datetime')"
   ]
  },
  {
   "cell_type": "code",
   "execution_count": 4,
   "metadata": {},
   "outputs": [],
   "source": [
    "obs_08076700= obs_08076700[(obs_08076700.index>=pd.to_datetime('20170825120000')) & (obs_08076700.index<=pd.to_datetime('20170827000000'))]\n",
    "obs_08076700= obs_08076700.resample('120S', label='right').interpolate()"
   ]
  },
  {
   "cell_type": "code",
   "execution_count": 5,
   "metadata": {},
   "outputs": [],
   "source": [
    "sim_08076700= pd.read_csv('08076700.csv')"
   ]
  },
  {
   "cell_type": "code",
   "execution_count": 16,
   "metadata": {},
   "outputs": [
    {
     "data": {
      "text/plain": [
       "0       4.246069\n",
       "1       4.193825\n",
       "2       4.171542\n",
       "3       4.163651\n",
       "4       4.160387\n",
       "5       4.160493\n",
       "6       4.165211\n",
       "7       4.168018\n",
       "8       4.168696\n",
       "9       4.168394\n",
       "          ...   \n",
       "1071    7.754676\n",
       "1072    7.753631\n",
       "1073    7.752598\n",
       "1074    7.751578\n",
       "1075    7.750570\n",
       "1076    7.749576\n",
       "1077    7.748595\n",
       "1078    7.747627\n",
       "1079    7.746673\n",
       "1080    7.745732\n",
       "Name: 82, Length: 1081, dtype: float64"
      ]
     },
     "execution_count": 16,
     "metadata": {},
     "output_type": "execute_result"
    }
   ],
   "source": [
    "sim_08076700.loc[:,'77']"
   ]
  },
  {
   "cell_type": "code",
   "execution_count": 24,
   "metadata": {},
   "outputs": [
    {
     "data": {
      "text/plain": [
       "[<matplotlib.lines.Line2D at 0x7f6fc4441b10>]"
      ]
     },
     "execution_count": 24,
     "metadata": {},
     "output_type": "execute_result"
    },
    {
     "data": {
      "text/plain": [
       "[<matplotlib.lines.Line2D at 0x7f6fc444ab10>]"
      ]
     },
     "execution_count": 24,
     "metadata": {},
     "output_type": "execute_result"
    },
    {
     "data": {
      "image/png": "[encoded data removed]",
      "text/plain": [
       "<Figure size 432x288 with 1 Axes>"
      ]
     },
     "metadata": {
      "needs_background": "light"
     },
     "output_type": "display_data"
    }
   ],
   "source": [
    "plt.plot(obs_08076700.index, obs_08076700.stage)\n",
    "plt.plot(obs_08076700.index, sim_08076700.loc[:,'25'])"
   ]
  },
  {
   "cell_type": "code",
   "execution_count": 26,
   "metadata": {},
   "outputs": [
    {
     "ename": "ImportError",
     "evalue": "No module named cresthh.anuga.shallow_water.forcing",
     "output_type": "error",
     "traceback": [
      "\u001b[0;31m---------------------------------------------------------------------------\u001b[0m",
      "\u001b[0;31mImportError\u001b[0m                               Traceback (most recent call last)",
      "\u001b[0;32m<ipython-input-26-b67c084c185a>\u001b[0m in \u001b[0;36m<module>\u001b[0;34m()\u001b[0m\n\u001b[0;32m----> 1\u001b[0;31m \u001b[0;32mfrom\u001b[0m \u001b[0mcresthh\u001b[0m\u001b[0;34m.\u001b[0m\u001b[0manuga\u001b[0m\u001b[0;34m.\u001b[0m\u001b[0mshallow_water\u001b[0m\u001b[0;34m.\u001b[0m\u001b[0mforcing\u001b[0m \u001b[0;32mimport\u001b[0m \u001b[0mCross_section\u001b[0m\u001b[0;34m\u001b[0m\u001b[0m\n\u001b[0m",
      "\u001b[0;31mImportError\u001b[0m: No module named cresthh.anuga.shallow_water.forcing"
     ]
    }
   ],
   "source": []
  }
 ],
 "metadata": {
  "kernelspec": {
   "display_name": "Python 2",
   "language": "python",
   "name": "python2"
  },
  "language_info": {
   "codemirror_mode": {
    "name": "ipython",
    "version": 2
   },
   "file_extension": ".py",
   "mimetype": "text/x-python",
   "name": "python",
   "nbconvert_exporter": "python",
   "pygments_lexer": "ipython2",
   "version": "2.7.5"
  }
 },
 "nbformat": 4,
 "nbformat_minor": 2
}
